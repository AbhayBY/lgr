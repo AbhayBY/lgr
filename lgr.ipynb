{
 "cells": [
  {
   "cell_type": "code",
   "execution_count": 1,
   "id": "506af9f3",
   "metadata": {},
   "outputs": [
    {
     "name": "stdout",
     "output_type": "stream",
     "text": [
      "1.3358380523734201 2.6013985991289172 2.465785701570871\n",
      "[0. 0. 1. 1. 1. 0. 1. 1. 0. 1. 0. 1. 1. 0. 1. 1. 1. 1. 1. 0. 1. 1. 0. 1.\n",
      " 1.]\n",
      "[0, 0, 1, 1, 1, 0, 1, 1, 0, 1, 0, 1, 1, 0, 1, 1, 1, 1, 1, 0, 1, 1, 0, 1, 1]\n",
      "Accuracy:  100.0\n"
     ]
    }
   ],
   "source": [
    "import numpy as np\n",
    "import pandas as pd\n",
    "from sklearn import preprocessing\n",
    "from sklearn.metrics import accuracy_score\n",
    "from sklearn.model_selection import train_test_split, KFold\n",
    "\n",
    "data = pd.read_csv('C:/Users/abhay/Untitled Folder/Student-University.csv')\n",
    "x = data.values[:, 0:2]\n",
    "y = data.values[:, 2]\n",
    "\n",
    "preX = preprocessing.scale(x)\n",
    "\n",
    "foldings = KFold(n_splits=5)\n",
    "\n",
    "for train_i, test_i in foldings.split(preX):\n",
    "  X_train, X_test, y_train, y_test = train_test_split(preX, y, test_size=0.25)\n",
    "\n",
    "epoch=10000\n",
    "alpha=0.001\n",
    "b0=0\n",
    "b1=0\n",
    "b2=0\n",
    "\n",
    "x1 = X_train[:, 0]\n",
    "x2 = X_train[:, 1]\n",
    "while(epoch>0):\n",
    "  for i in range(len(X_train)):\n",
    "    pred = b0 + b1*x1[i] + b2*x2[i]\n",
    "    prediction = 1 /(1 + np.exp(-pred))\n",
    "    b0 = b0 + alpha*(y_train[i]-prediction)*prediction*(1-prediction)*1.0\n",
    "    b1 = b1 + alpha*(y_train[i]-prediction)*prediction*(1-prediction)*x1[i]\n",
    "    b2 = b2 + alpha*(y_train[i]-prediction)*prediction*(1-prediction)*x2[i]\n",
    "  epoch = epoch-1\n",
    "\n",
    "print(b0, b1, b2)\n",
    "\n",
    "x3 = X_test[:, 0]\n",
    "x4 = X_test[:, 1]\n",
    "ypred = [0]*len(X_test)\n",
    "ylist = []\n",
    "\n",
    "for i in range(len(X_test)):\n",
    "  pred = b0 + b1*x3[i] + b2*x4[i]\n",
    "  ypred[i] = np.round(1 / (1 + np.exp(-pred)))\n",
    "  ylist.append(round(ypred[i]))\n",
    "\n",
    "print(y_test)\n",
    "print(ylist)\n",
    "\n",
    "score = accuracy_score(y_test, ypred)\n",
    "print(\"Accuracy: \", score*100)"
   ]
  },
  {
   "cell_type": "code",
   "execution_count": null,
   "id": "0957a94c",
   "metadata": {},
   "outputs": [],
   "source": []
  }
 ],
 "metadata": {
  "kernelspec": {
   "display_name": "Python 3 (ipykernel)",
   "language": "python",
   "name": "python3"
  },
  "language_info": {
   "codemirror_mode": {
    "name": "ipython",
    "version": 3
   },
   "file_extension": ".py",
   "mimetype": "text/x-python",
   "name": "python",
   "nbconvert_exporter": "python",
   "pygments_lexer": "ipython3",
   "version": "3.9.7"
  }
 },
 "nbformat": 4,
 "nbformat_minor": 5
}
